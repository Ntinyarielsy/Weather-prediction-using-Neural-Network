{
 "cells": [
  {
   "cell_type": "markdown",
   "metadata": {},
   "source": [
    "#### Import required libraries "
   ]
  },
  {
   "cell_type": "code",
   "execution_count": 76,
   "metadata": {},
   "outputs": [],
   "source": [
    "#Liraries for data manipulation\n",
    "import pandas as pd\n",
    "import numpy as np\n",
    "\n",
    "#data visualization library\n",
    "import matplotlib.pyplot as plt\n",
    "\n",
    "# Sk;earn libraries\n",
    "from sklearn.model_selection import train_test_split\n",
    "from sklearn.preprocessing import LabelEncoder\n",
    "from sklearn.metrics import accuracy_score\n",
    "\n",
    "# Tensorflow libraries\n",
    "import tensorflow as tf\n",
    "from tensorflow import keras\n",
    "from tensorflow.keras.callbacks import EarlyStopping\n",
    "\n",
    "import time\n",
    "import random"
   ]
  },
  {
   "cell_type": "code",
   "execution_count": 78,
   "metadata": {},
   "outputs": [
    {
     "data": {
      "text/html": [
       "<div>\n",
       "<style scoped>\n",
       "    .dataframe tbody tr th:only-of-type {\n",
       "        vertical-align: middle;\n",
       "    }\n",
       "\n",
       "    .dataframe tbody tr th {\n",
       "        vertical-align: top;\n",
       "    }\n",
       "\n",
       "    .dataframe thead th {\n",
       "        text-align: right;\n",
       "    }\n",
       "</style>\n",
       "<table border=\"1\" class=\"dataframe\">\n",
       "  <thead>\n",
       "    <tr style=\"text-align: right;\">\n",
       "      <th></th>\n",
       "      <th>Date</th>\n",
       "      <th>Location</th>\n",
       "      <th>MinTemp</th>\n",
       "      <th>MaxTemp</th>\n",
       "      <th>Rainfall</th>\n",
       "      <th>Evaporation</th>\n",
       "      <th>Sunshine</th>\n",
       "      <th>WindGustDir</th>\n",
       "      <th>WindGustSpeed</th>\n",
       "      <th>WindDir9am</th>\n",
       "      <th>...</th>\n",
       "      <th>Humidity9am</th>\n",
       "      <th>Humidity3pm</th>\n",
       "      <th>Pressure9am</th>\n",
       "      <th>Pressure3pm</th>\n",
       "      <th>Cloud9am</th>\n",
       "      <th>Cloud3pm</th>\n",
       "      <th>Temp9am</th>\n",
       "      <th>Temp3pm</th>\n",
       "      <th>RainToday</th>\n",
       "      <th>RainTomorrow</th>\n",
       "    </tr>\n",
       "  </thead>\n",
       "  <tbody>\n",
       "    <tr>\n",
       "      <th>0</th>\n",
       "      <td>12/1/08</td>\n",
       "      <td>Albury</td>\n",
       "      <td>13.4</td>\n",
       "      <td>22.9</td>\n",
       "      <td>0.6</td>\n",
       "      <td>NaN</td>\n",
       "      <td>NaN</td>\n",
       "      <td>W</td>\n",
       "      <td>44.0</td>\n",
       "      <td>W</td>\n",
       "      <td>...</td>\n",
       "      <td>71.0</td>\n",
       "      <td>22.0</td>\n",
       "      <td>1007.7</td>\n",
       "      <td>1007.1</td>\n",
       "      <td>8.0</td>\n",
       "      <td>NaN</td>\n",
       "      <td>16.9</td>\n",
       "      <td>21.8</td>\n",
       "      <td>No</td>\n",
       "      <td>No</td>\n",
       "    </tr>\n",
       "    <tr>\n",
       "      <th>1</th>\n",
       "      <td>12/2/08</td>\n",
       "      <td>Albury</td>\n",
       "      <td>7.4</td>\n",
       "      <td>25.1</td>\n",
       "      <td>0.0</td>\n",
       "      <td>NaN</td>\n",
       "      <td>NaN</td>\n",
       "      <td>WNW</td>\n",
       "      <td>44.0</td>\n",
       "      <td>NNW</td>\n",
       "      <td>...</td>\n",
       "      <td>44.0</td>\n",
       "      <td>25.0</td>\n",
       "      <td>1010.6</td>\n",
       "      <td>1007.8</td>\n",
       "      <td>NaN</td>\n",
       "      <td>NaN</td>\n",
       "      <td>17.2</td>\n",
       "      <td>24.3</td>\n",
       "      <td>No</td>\n",
       "      <td>No</td>\n",
       "    </tr>\n",
       "    <tr>\n",
       "      <th>2</th>\n",
       "      <td>12/3/08</td>\n",
       "      <td>Albury</td>\n",
       "      <td>12.9</td>\n",
       "      <td>25.7</td>\n",
       "      <td>0.0</td>\n",
       "      <td>NaN</td>\n",
       "      <td>NaN</td>\n",
       "      <td>WSW</td>\n",
       "      <td>46.0</td>\n",
       "      <td>W</td>\n",
       "      <td>...</td>\n",
       "      <td>38.0</td>\n",
       "      <td>30.0</td>\n",
       "      <td>1007.6</td>\n",
       "      <td>1008.7</td>\n",
       "      <td>NaN</td>\n",
       "      <td>2.0</td>\n",
       "      <td>21.0</td>\n",
       "      <td>23.2</td>\n",
       "      <td>No</td>\n",
       "      <td>No</td>\n",
       "    </tr>\n",
       "    <tr>\n",
       "      <th>3</th>\n",
       "      <td>12/4/08</td>\n",
       "      <td>Albury</td>\n",
       "      <td>9.2</td>\n",
       "      <td>28.0</td>\n",
       "      <td>0.0</td>\n",
       "      <td>NaN</td>\n",
       "      <td>NaN</td>\n",
       "      <td>NE</td>\n",
       "      <td>24.0</td>\n",
       "      <td>SE</td>\n",
       "      <td>...</td>\n",
       "      <td>45.0</td>\n",
       "      <td>16.0</td>\n",
       "      <td>1017.6</td>\n",
       "      <td>1012.8</td>\n",
       "      <td>NaN</td>\n",
       "      <td>NaN</td>\n",
       "      <td>18.1</td>\n",
       "      <td>26.5</td>\n",
       "      <td>No</td>\n",
       "      <td>No</td>\n",
       "    </tr>\n",
       "    <tr>\n",
       "      <th>4</th>\n",
       "      <td>12/5/08</td>\n",
       "      <td>Albury</td>\n",
       "      <td>17.5</td>\n",
       "      <td>32.3</td>\n",
       "      <td>1.0</td>\n",
       "      <td>NaN</td>\n",
       "      <td>NaN</td>\n",
       "      <td>W</td>\n",
       "      <td>41.0</td>\n",
       "      <td>ENE</td>\n",
       "      <td>...</td>\n",
       "      <td>82.0</td>\n",
       "      <td>33.0</td>\n",
       "      <td>1010.8</td>\n",
       "      <td>1006.0</td>\n",
       "      <td>7.0</td>\n",
       "      <td>8.0</td>\n",
       "      <td>17.8</td>\n",
       "      <td>29.7</td>\n",
       "      <td>No</td>\n",
       "      <td>No</td>\n",
       "    </tr>\n",
       "    <tr>\n",
       "      <th>5</th>\n",
       "      <td>12/6/08</td>\n",
       "      <td>Albury</td>\n",
       "      <td>14.6</td>\n",
       "      <td>29.7</td>\n",
       "      <td>0.2</td>\n",
       "      <td>NaN</td>\n",
       "      <td>NaN</td>\n",
       "      <td>WNW</td>\n",
       "      <td>56.0</td>\n",
       "      <td>W</td>\n",
       "      <td>...</td>\n",
       "      <td>55.0</td>\n",
       "      <td>23.0</td>\n",
       "      <td>1009.2</td>\n",
       "      <td>1005.4</td>\n",
       "      <td>NaN</td>\n",
       "      <td>NaN</td>\n",
       "      <td>20.6</td>\n",
       "      <td>28.9</td>\n",
       "      <td>No</td>\n",
       "      <td>No</td>\n",
       "    </tr>\n",
       "    <tr>\n",
       "      <th>6</th>\n",
       "      <td>12/7/08</td>\n",
       "      <td>Albury</td>\n",
       "      <td>14.3</td>\n",
       "      <td>25.0</td>\n",
       "      <td>0.0</td>\n",
       "      <td>NaN</td>\n",
       "      <td>NaN</td>\n",
       "      <td>W</td>\n",
       "      <td>50.0</td>\n",
       "      <td>SW</td>\n",
       "      <td>...</td>\n",
       "      <td>49.0</td>\n",
       "      <td>19.0</td>\n",
       "      <td>1009.6</td>\n",
       "      <td>1008.2</td>\n",
       "      <td>1.0</td>\n",
       "      <td>NaN</td>\n",
       "      <td>18.1</td>\n",
       "      <td>24.6</td>\n",
       "      <td>No</td>\n",
       "      <td>No</td>\n",
       "    </tr>\n",
       "    <tr>\n",
       "      <th>7</th>\n",
       "      <td>12/8/08</td>\n",
       "      <td>Albury</td>\n",
       "      <td>7.7</td>\n",
       "      <td>26.7</td>\n",
       "      <td>0.0</td>\n",
       "      <td>NaN</td>\n",
       "      <td>NaN</td>\n",
       "      <td>W</td>\n",
       "      <td>35.0</td>\n",
       "      <td>SSE</td>\n",
       "      <td>...</td>\n",
       "      <td>48.0</td>\n",
       "      <td>19.0</td>\n",
       "      <td>1013.4</td>\n",
       "      <td>1010.1</td>\n",
       "      <td>NaN</td>\n",
       "      <td>NaN</td>\n",
       "      <td>16.3</td>\n",
       "      <td>25.5</td>\n",
       "      <td>No</td>\n",
       "      <td>No</td>\n",
       "    </tr>\n",
       "    <tr>\n",
       "      <th>8</th>\n",
       "      <td>12/9/08</td>\n",
       "      <td>Albury</td>\n",
       "      <td>9.7</td>\n",
       "      <td>31.9</td>\n",
       "      <td>0.0</td>\n",
       "      <td>NaN</td>\n",
       "      <td>NaN</td>\n",
       "      <td>NNW</td>\n",
       "      <td>80.0</td>\n",
       "      <td>SE</td>\n",
       "      <td>...</td>\n",
       "      <td>42.0</td>\n",
       "      <td>9.0</td>\n",
       "      <td>1008.9</td>\n",
       "      <td>1003.6</td>\n",
       "      <td>NaN</td>\n",
       "      <td>NaN</td>\n",
       "      <td>18.3</td>\n",
       "      <td>30.2</td>\n",
       "      <td>No</td>\n",
       "      <td>Yes</td>\n",
       "    </tr>\n",
       "    <tr>\n",
       "      <th>9</th>\n",
       "      <td>12/10/08</td>\n",
       "      <td>Albury</td>\n",
       "      <td>13.1</td>\n",
       "      <td>30.1</td>\n",
       "      <td>1.4</td>\n",
       "      <td>NaN</td>\n",
       "      <td>NaN</td>\n",
       "      <td>W</td>\n",
       "      <td>28.0</td>\n",
       "      <td>S</td>\n",
       "      <td>...</td>\n",
       "      <td>58.0</td>\n",
       "      <td>27.0</td>\n",
       "      <td>1007.0</td>\n",
       "      <td>1005.7</td>\n",
       "      <td>NaN</td>\n",
       "      <td>NaN</td>\n",
       "      <td>20.1</td>\n",
       "      <td>28.2</td>\n",
       "      <td>Yes</td>\n",
       "      <td>No</td>\n",
       "    </tr>\n",
       "  </tbody>\n",
       "</table>\n",
       "<p>10 rows × 23 columns</p>\n",
       "</div>"
      ],
      "text/plain": [
       "       Date Location  MinTemp  MaxTemp  Rainfall  Evaporation  Sunshine  \\\n",
       "0   12/1/08   Albury     13.4     22.9       0.6          NaN       NaN   \n",
       "1   12/2/08   Albury      7.4     25.1       0.0          NaN       NaN   \n",
       "2   12/3/08   Albury     12.9     25.7       0.0          NaN       NaN   \n",
       "3   12/4/08   Albury      9.2     28.0       0.0          NaN       NaN   \n",
       "4   12/5/08   Albury     17.5     32.3       1.0          NaN       NaN   \n",
       "5   12/6/08   Albury     14.6     29.7       0.2          NaN       NaN   \n",
       "6   12/7/08   Albury     14.3     25.0       0.0          NaN       NaN   \n",
       "7   12/8/08   Albury      7.7     26.7       0.0          NaN       NaN   \n",
       "8   12/9/08   Albury      9.7     31.9       0.0          NaN       NaN   \n",
       "9  12/10/08   Albury     13.1     30.1       1.4          NaN       NaN   \n",
       "\n",
       "  WindGustDir  WindGustSpeed WindDir9am  ... Humidity9am  Humidity3pm  \\\n",
       "0           W           44.0          W  ...        71.0         22.0   \n",
       "1         WNW           44.0        NNW  ...        44.0         25.0   \n",
       "2         WSW           46.0          W  ...        38.0         30.0   \n",
       "3          NE           24.0         SE  ...        45.0         16.0   \n",
       "4           W           41.0        ENE  ...        82.0         33.0   \n",
       "5         WNW           56.0          W  ...        55.0         23.0   \n",
       "6           W           50.0         SW  ...        49.0         19.0   \n",
       "7           W           35.0        SSE  ...        48.0         19.0   \n",
       "8         NNW           80.0         SE  ...        42.0          9.0   \n",
       "9           W           28.0          S  ...        58.0         27.0   \n",
       "\n",
       "   Pressure9am  Pressure3pm  Cloud9am  Cloud3pm  Temp9am  Temp3pm  RainToday  \\\n",
       "0       1007.7       1007.1       8.0       NaN     16.9     21.8         No   \n",
       "1       1010.6       1007.8       NaN       NaN     17.2     24.3         No   \n",
       "2       1007.6       1008.7       NaN       2.0     21.0     23.2         No   \n",
       "3       1017.6       1012.8       NaN       NaN     18.1     26.5         No   \n",
       "4       1010.8       1006.0       7.0       8.0     17.8     29.7         No   \n",
       "5       1009.2       1005.4       NaN       NaN     20.6     28.9         No   \n",
       "6       1009.6       1008.2       1.0       NaN     18.1     24.6         No   \n",
       "7       1013.4       1010.1       NaN       NaN     16.3     25.5         No   \n",
       "8       1008.9       1003.6       NaN       NaN     18.3     30.2         No   \n",
       "9       1007.0       1005.7       NaN       NaN     20.1     28.2        Yes   \n",
       "\n",
       "   RainTomorrow  \n",
       "0            No  \n",
       "1            No  \n",
       "2            No  \n",
       "3            No  \n",
       "4            No  \n",
       "5            No  \n",
       "6            No  \n",
       "7            No  \n",
       "8           Yes  \n",
       "9            No  \n",
       "\n",
       "[10 rows x 23 columns]"
      ]
     },
     "execution_count": 78,
     "metadata": {},
     "output_type": "execute_result"
    }
   ],
   "source": [
    "# read the data and display some data\n",
    "df=pd.read_csv(\"weatherAUS.csv\")\n",
    "df.head(10) # display first 10 rows of data"
   ]
  },
  {
   "cell_type": "code",
   "execution_count": 79,
   "metadata": {},
   "outputs": [
    {
     "name": "stdout",
     "output_type": "stream",
     "text": [
      "Number of rows are 145460,number of columns are 23\n"
     ]
    }
   ],
   "source": [
    "#check the shape\n",
    "print(f'Number of rows are {df.shape[0]},number of columns are {df.shape[1]}')"
   ]
  },
  {
   "cell_type": "code",
   "execution_count": 80,
   "metadata": {},
   "outputs": [
    {
     "name": "stdout",
     "output_type": "stream",
     "text": [
      "<class 'pandas.core.frame.DataFrame'>\n",
      "RangeIndex: 145460 entries, 0 to 145459\n",
      "Data columns (total 23 columns):\n",
      " #   Column         Non-Null Count   Dtype  \n",
      "---  ------         --------------   -----  \n",
      " 0   Date           145460 non-null  object \n",
      " 1   Location       145460 non-null  object \n",
      " 2   MinTemp        143975 non-null  float64\n",
      " 3   MaxTemp        144199 non-null  float64\n",
      " 4   Rainfall       142199 non-null  float64\n",
      " 5   Evaporation    82670 non-null   float64\n",
      " 6   Sunshine       75625 non-null   float64\n",
      " 7   WindGustDir    135134 non-null  object \n",
      " 8   WindGustSpeed  135197 non-null  float64\n",
      " 9   WindDir9am     134894 non-null  object \n",
      " 10  WindDir3pm     141232 non-null  object \n",
      " 11  WindSpeed9am   143693 non-null  float64\n",
      " 12  WindSpeed3pm   142398 non-null  float64\n",
      " 13  Humidity9am    142806 non-null  float64\n",
      " 14  Humidity3pm    140953 non-null  float64\n",
      " 15  Pressure9am    130395 non-null  float64\n",
      " 16  Pressure3pm    130432 non-null  float64\n",
      " 17  Cloud9am       89572 non-null   float64\n",
      " 18  Cloud3pm       86102 non-null   float64\n",
      " 19  Temp9am        143693 non-null  float64\n",
      " 20  Temp3pm        141851 non-null  float64\n",
      " 21  RainToday      142199 non-null  object \n",
      " 22  RainTomorrow   142193 non-null  object \n",
      "dtypes: float64(16), object(7)\n",
      "memory usage: 25.5+ MB\n"
     ]
    }
   ],
   "source": [
    "# check the data types of the features\n",
    "df.info()"
   ]
  },
  {
   "cell_type": "markdown",
   "metadata": {},
   "source": [
    "## Data preprocessing"
   ]
  },
  {
   "cell_type": "markdown",
   "metadata": {},
   "source": [
    " 1. Get rid of some columns of which each of them is not considered as a feature."
   ]
  },
  {
   "cell_type": "code",
   "execution_count": 81,
   "metadata": {},
   "outputs": [
    {
     "data": {
      "text/plain": [
       "Index(['MinTemp', 'MaxTemp', 'Rainfall', 'Evaporation', 'Sunshine',\n",
       "       'WindGustDir', 'WindGustSpeed', 'WindDir9am', 'WindDir3pm',\n",
       "       'WindSpeed9am', 'WindSpeed3pm', 'Humidity9am', 'Humidity3pm',\n",
       "       'Pressure9am', 'Pressure3pm', 'Cloud9am', 'Cloud3pm', 'Temp9am',\n",
       "       'Temp3pm', 'RainToday', 'RainTomorrow'],\n",
       "      dtype='object')"
      ]
     },
     "execution_count": 81,
     "metadata": {},
     "output_type": "execute_result"
    }
   ],
   "source": [
    "df=df.drop(['Date','Location'],axis=1)\n",
    "df.columns"
   ]
  },
  {
   "cell_type": "markdown",
   "metadata": {},
   "source": [
    "Calculate the sum of all null values in the dataset "
   ]
  },
  {
   "cell_type": "code",
   "execution_count": 82,
   "metadata": {},
   "outputs": [
    {
     "name": "stdout",
     "output_type": "stream",
     "text": [
      "Total number of rows with missing values is: 89040\n",
      "\n",
      "Sum of missing values in MinTemp column is : 1485\n",
      "Sum of missing values in MaxTemp column is : 1261\n",
      "Sum of missing values in Rainfall column is : 3261\n",
      "Sum of missing values in Evaporation column is : 62790\n",
      "Sum of missing values in Sunshine column is : 69835\n",
      "Sum of missing values in WindGustDir column is : 10326\n",
      "Sum of missing values in WindGustSpeed column is : 10263\n",
      "Sum of missing values in WindDir9am column is : 10566\n",
      "Sum of missing values in WindDir3pm column is : 4228\n",
      "Sum of missing values in WindSpeed9am column is : 1767\n",
      "Sum of missing values in WindSpeed3pm column is : 3062\n",
      "Sum of missing values in Humidity9am column is : 2654\n",
      "Sum of missing values in Humidity3pm column is : 4507\n",
      "Sum of missing values in Pressure9am column is : 15065\n",
      "Sum of missing values in Pressure3pm column is : 15028\n",
      "Sum of missing values in Cloud9am column is : 55888\n",
      "Sum of missing values in Cloud3pm column is : 59358\n",
      "Sum of missing values in Temp9am column is : 1767\n",
      "Sum of missing values in Temp3pm column is : 3609\n",
      "Sum of missing values in RainToday column is : 3261\n",
      "Sum of missing values in RainTomorrow column is : 3267\n"
     ]
    }
   ],
   "source": [
    "# Sum of all rows with missing values\n",
    "rows_with_missing_values = df.isnull().any(axis=1).sum()\n",
    "print(\"Total number of rows with missing values is:\", rows_with_missing_values)\n",
    "print(\"\")\n",
    "# sum of all missing values in each columns in percentage\n",
    "for col in df.columns:\n",
    "    print(f\"Sum of missing values in {col} column is : {df[col].isnull().sum()}\")"
   ]
  },
  {
   "cell_type": "markdown",
   "metadata": {},
   "source": [
    " 2. Get rid of some data instances (rows) which have missing values\n"
   ]
  },
  {
   "cell_type": "code",
   "execution_count": 83,
   "metadata": {},
   "outputs": [],
   "source": [
    "df=df.dropna() # this methos removes all rows with NULL values"
   ]
  },
  {
   "cell_type": "code",
   "execution_count": 84,
   "metadata": {},
   "outputs": [
    {
     "data": {
      "text/plain": [
       "(56420, 21)"
      ]
     },
     "execution_count": 84,
     "metadata": {},
     "output_type": "execute_result"
    }
   ],
   "source": [
    "df.shape"
   ]
  },
  {
   "cell_type": "markdown",
   "metadata": {},
   "source": [
    "3. Convert attributes of each of the features (columns) into arbitrary positive numbers.\n",
    " \n",
    "   - We have features that are objects and therefore we we use lable encoding \n"
   ]
  },
  {
   "cell_type": "code",
   "execution_count": 85,
   "metadata": {},
   "outputs": [],
   "source": [
    "label_cols=['WindGustDir','WindDir9am','WindDir3pm','RainToday','RainTomorrow']\n",
    "le=LabelEncoder()\n",
    "for col in  label_cols:\n",
    "    df[col]=le.fit_transform(df[col])"
   ]
  },
  {
   "cell_type": "markdown",
   "metadata": {},
   "source": [
    "4. Divide the data set into two sets: training set Dtrain (70%) and testing set Dtest (30%)\n"
   ]
  },
  {
   "cell_type": "code",
   "execution_count": 86,
   "metadata": {},
   "outputs": [
    {
     "name": "stdout",
     "output_type": "stream",
     "text": [
      "Training instances: 39494, Training features: 20\n",
      "Testing instances: 16926, Testing features: 20\n"
     ]
    }
   ],
   "source": [
    "X = df.drop([\"RainTomorrow\"], axis=1)\n",
    "Y = df[\"RainTomorrow\"]\n",
    "\n",
    "X_train,X_test,y_train,y_test = train_test_split(X, Y, test_size=0.3, random_state=42)\n",
    "\n",
    "\n",
    "X_train.shape, X_test.shape\n",
    "print(f\"Training instances: {X_train.shape[0]}, Training features: {X_train.shape[1]}\")\n",
    "\n",
    "print(f\"Testing instances: {X_test.shape[0]}, Testing features: {X_test.shape[1]}\")"
   ]
  },
  {
   "cell_type": "markdown",
   "metadata": {},
   "source": [
    "## MODEL BUILDING\n",
    "\n",
    "We will create a feed forward neural network with the following:\n",
    "- Input layer equal to number of features.\n",
    "- two hidden layers.\n",
    "- Two or one number of neurons in the output. "
   ]
  },
  {
   "cell_type": "code",
   "execution_count": 87,
   "metadata": {},
   "outputs": [],
   "source": [
    "np.random.seed(42)\n",
    "tf.random.set_seed(42)\n",
    "\n",
    "model = keras.Sequential([\n",
    "    keras.layers.Dense(64, activation='relu', input_shape=(20,),name='Input_layer'), #input later\n",
    "    keras.layers.Dense(32, activation='relu',name='First_hidden_layer'), #first hidden layer\n",
    "    keras.layers.Dense(32, activation='relu',name='Second_hidden_layer'), # second hidden layer\n",
    "    keras.layers.Dense(1, activation='sigmoid',name='Output_layer')]) # Output layer\n",
    "\n"
   ]
  },
  {
   "cell_type": "markdown",
   "metadata": {},
   "source": [
    "#### Loss function\n",
    "- It quantifies error between the predicted y and actual y\n",
    "- The choice of loss function to use depends on the problem.Since this is a binary classification proble(0 for it will not rain and 1 it will rain) we use binary cross entropy.\n",
    "\n",
    "#### Optimizer\n",
    "- It is a function that adjusts the neural network parameters(weights,bias,learning rate),helping in reducing overall loss and improving accuracy.\n",
    "- We used Adam as the optimizing function for it ability to adaptively adjust learning rate for each network weight individually."
   ]
  },
  {
   "cell_type": "code",
   "execution_count": 88,
   "metadata": {},
   "outputs": [
    {
     "name": "stdout",
     "output_type": "stream",
     "text": [
      "Epoch 1/20\n",
      "988/988 [==============================] - 6s 4ms/step - loss: 0.9107 - accuracy: 0.7821 - val_loss: 0.5664 - val_accuracy: 0.8142\n",
      "Epoch 2/20\n",
      "988/988 [==============================] - 5s 5ms/step - loss: 0.4771 - accuracy: 0.8134 - val_loss: 0.3647 - val_accuracy: 0.8480\n",
      "Epoch 3/20\n",
      "988/988 [==============================] - 6s 6ms/step - loss: 0.4225 - accuracy: 0.8265 - val_loss: 0.3908 - val_accuracy: 0.8405\n",
      "Epoch 4/20\n",
      "988/988 [==============================] - 4s 4ms/step - loss: 0.4009 - accuracy: 0.8320 - val_loss: 0.4862 - val_accuracy: 0.7687\n",
      "Epoch 5/20\n",
      "988/988 [==============================] - 4s 4ms/step - loss: 0.3966 - accuracy: 0.8326 - val_loss: 0.5243 - val_accuracy: 0.8109\n",
      "Epoch 6/20\n",
      "988/988 [==============================] - 4s 4ms/step - loss: 0.3909 - accuracy: 0.8330 - val_loss: 0.3708 - val_accuracy: 0.8439\n",
      "Epoch 7/20\n",
      "988/988 [==============================] - 4s 4ms/step - loss: 0.3706 - accuracy: 0.8399 - val_loss: 0.3460 - val_accuracy: 0.8501\n",
      "Epoch 8/20\n",
      "988/988 [==============================] - 4s 4ms/step - loss: 0.3715 - accuracy: 0.8400 - val_loss: 0.3672 - val_accuracy: 0.8378\n",
      "Epoch 9/20\n",
      "988/988 [==============================] - 4s 4ms/step - loss: 0.3614 - accuracy: 0.8426 - val_loss: 0.3831 - val_accuracy: 0.8350\n",
      "Epoch 10/20\n",
      "988/988 [==============================] - 5s 5ms/step - loss: 0.3549 - accuracy: 0.8455 - val_loss: 0.3461 - val_accuracy: 0.8447\n",
      "Epoch 11/20\n",
      "988/988 [==============================] - 5s 5ms/step - loss: 0.3562 - accuracy: 0.8466 - val_loss: 0.4117 - val_accuracy: 0.8247\n",
      "Epoch 12/20\n",
      "988/988 [==============================] - 4s 4ms/step - loss: 0.3580 - accuracy: 0.8446 - val_loss: 0.3553 - val_accuracy: 0.8473\n",
      "Total elapsed time is 54.2960307598114 seconds\n"
     ]
    }
   ],
   "source": [
    "model.compile(loss='binary_crossentropy',optimizer=tf.keras.optimizers.Adam(learning_rate=1e-3), metrics=['accuracy'])\n",
    "\n",
    "\n",
    "# Define stop criteria\n",
    "early_stop = tf.keras.callbacks.EarlyStopping(monitor='val_loss',restore_best_weights=True,patience=5 )\n",
    "\n",
    "# Train the NN model based on the backpropagation algorithm\n",
    "start_time=time.time()\n",
    "history = model.fit(X_train, y_train, epochs=20,validation_split=0.2,callbacks=[early_stop])\n",
    "end_time=time.time()\n",
    "print(f'Total elapsed time is {end_time-start_time} seconds')\n"
   ]
  },
  {
   "cell_type": "markdown",
   "metadata": {},
   "source": [
    "#### Notes\n",
    "- Random seed is not set and therefore expect different training epochs used."
   ]
  },
  {
   "cell_type": "markdown",
   "metadata": {},
   "source": [
    "###  Get model weights and bias\n"
   ]
  },
  {
   "cell_type": "code",
   "execution_count": 89,
   "metadata": {},
   "outputs": [
    {
     "name": "stdout",
     "output_type": "stream",
     "text": [
      "Model: \"sequential\"\n",
      "_________________________________________________________________\n",
      " Layer (type)                Output Shape              Param #   \n",
      "=================================================================\n",
      " Input_layer (Dense)         (None, 64)                1344      \n",
      "                                                                 \n",
      " First_hidden_layer (Dense)  (None, 32)                2080      \n",
      "                                                                 \n",
      " Second_hidden_layer (Dense  (None, 32)                1056      \n",
      " )                                                               \n",
      "                                                                 \n",
      " Output_layer (Dense)        (None, 1)                 33        \n",
      "                                                                 \n",
      "=================================================================\n",
      "Total params: 4513 (17.63 KB)\n",
      "Trainable params: 4513 (17.63 KB)\n",
      "Non-trainable params: 0 (0.00 Byte)\n",
      "_________________________________________________________________\n",
      "\n",
      "-------------------- Weights and Biases --------------------\n",
      "NB: The last parameter in each layer is bias while others are weights\n",
      "\n",
      "Input_layer\n",
      "   [[-1.1773832e-01 -2.7075785e-01  1.6067965e-01 ... -1.7972887e-03\n",
      "  -4.6293624e-02  6.7205220e-02]\n",
      " [-9.1300867e-02 -1.1282661e-01 -4.8721071e-02 ... -7.9506636e-03\n",
      "  -2.5893075e-02 -1.8674408e-01]\n",
      " [-5.0530855e-02  1.8880902e-01  1.6851836e-01 ...  1.7734033e-01\n",
      "   1.9600132e-02  4.6568573e-02]\n",
      " ...\n",
      " [ 3.6275052e-02  3.4602493e-02  4.5012264e-04 ...  9.1384917e-02\n",
      "   1.5656414e-02 -6.2524080e-03]\n",
      " [ 1.8540195e-01  1.1341234e-01 -7.8879997e-02 ...  1.2941885e-01\n",
      "   2.3722954e-01  1.7730129e-01]\n",
      " [ 4.8559850e-01  1.4974830e-01  1.7636946e-01 ... -2.4213451e-01\n",
      "   2.7788791e-01  8.7345392e-02]]\n",
      "   [ 0.00052616  0.00603172  0.00139702  0.01259244  0.         -0.00520666\n",
      "  0.          0.          0.          0.00909185  0.         -0.07667125\n",
      " -0.00435434  0.          0.          0.          0.         -0.00031429\n",
      "  0.          0.         -0.01881866 -0.01292552  0.         -0.08490372\n",
      "  0.          0.         -0.01413022  0.          0.         -0.03022834\n",
      "  0.          0.         -0.01617466  0.          0.         -0.02348872\n",
      "  0.         -0.03474638  0.01206117  0.         -0.04310261  0.\n",
      "  0.          0.          0.         -0.0245381   0.          0.01640099\n",
      "  0.         -0.0074953  -0.09497733 -0.01438498  0.         -0.02801792\n",
      "  0.          0.          0.03330383  0.         -0.10416692 -0.02451834\n",
      " -0.03087823  0.         -0.01524515  0.        ]\n",
      "First_hidden_layer\n",
      "   [[ 0.15735954 -0.04494315 -0.20319003 ... -0.21796934  0.14995962\n",
      "  -0.16060933]\n",
      " [ 0.22644949 -0.14304829 -0.1889848  ... -0.20673507  0.08659456\n",
      "  -0.04165413]\n",
      " [ 0.17296118 -0.208006   -0.11287723 ... -0.06830941  0.24040496\n",
      "  -0.1790557 ]\n",
      " ...\n",
      " [ 0.1683644   0.04910344  0.03150648 ...  0.24335772  0.1729154\n",
      "  -0.18879324]\n",
      " [-0.00579447  0.19851859 -0.21585432 ... -0.05155062 -0.14535747\n",
      "   0.0721069 ]\n",
      " [ 0.16466886  0.1863684  -0.14415783 ...  0.06398225  0.05479676\n",
      "   0.23142076]]\n",
      "   [ 0.         -0.04636028  0.00457689  0.          0.         -0.01580437\n",
      " -0.01744401  0.         -0.02147302 -0.0204319   0.00029273 -0.02239558\n",
      "  0.          0.         -0.02276905 -0.02224299  0.          0.00869393\n",
      " -0.03099395  0.         -0.01365759 -0.05143219  0.         -0.01644534\n",
      " -0.01963699 -0.02374044 -0.06388041  0.00756545  0.00509264 -0.01894301\n",
      " -0.00726738 -0.03426113]\n",
      "Second_hidden_layer\n",
      "   [[-0.1568349  -0.16936558 -0.29593724 ... -0.08695    -0.23096514\n",
      "   0.17107058]\n",
      " [ 0.16436414  0.21670023  0.27571604 ...  0.12924065 -0.17323604\n",
      "  -0.02850166]\n",
      " [-0.01223177 -0.16028577 -0.18540303 ... -0.15642513 -0.05197565\n",
      "   0.30755234]\n",
      " ...\n",
      " [ 0.07071748  0.14305195 -0.2748961  ...  0.05504809 -0.17868812\n",
      "   0.19202985]\n",
      " [ 0.21431723 -0.07684866  0.03871824 ...  0.00247302  0.01473749\n",
      "  -0.20244384]\n",
      " [ 0.1385308  -0.13955791  0.04206894 ... -0.20927106 -0.09835778\n",
      "   0.23130752]]\n",
      "   [-0.04898399 -0.0218     -0.02001702 -0.12261397 -0.04412941  0.\n",
      " -0.09417213 -0.03198414  0.          0.          0.          0.01793716\n",
      " -0.03165267 -0.01893594 -0.00849131 -0.01669799 -0.01614963 -0.01102637\n",
      "  0.0144767   0.05387644  0.015725   -0.08899738  0.01560428 -0.03166686\n",
      " -0.17067815 -0.03392557  0.01540526 -0.01708922  0.         -0.01965003\n",
      " -0.03139594 -0.02010212]\n",
      "Output_layer\n",
      "   [[-0.05907204]\n",
      " [-0.09668692]\n",
      " [-0.0904357 ]\n",
      " [ 0.21714559]\n",
      " [ 0.14651069]\n",
      " [ 0.26901406]\n",
      " [-0.2626637 ]\n",
      " [-0.18190609]\n",
      " [-0.00865886]\n",
      " [-0.20173274]\n",
      " [ 0.10244322]\n",
      " [ 0.23375875]\n",
      " [-0.03725201]\n",
      " [ 0.06237752]\n",
      " [-0.08901998]\n",
      " [-0.39317942]\n",
      " [-0.24286188]\n",
      " [-0.31254086]\n",
      " [ 0.1803902 ]\n",
      " [ 0.16233914]\n",
      " [ 0.27823755]\n",
      " [ 0.03066882]\n",
      " [ 0.28011724]\n",
      " [ 0.37881565]\n",
      " [-0.13705495]\n",
      " [-0.01302169]\n",
      " [ 0.21390672]\n",
      " [-0.34072554]\n",
      " [-0.18397065]\n",
      " [-0.22774586]\n",
      " [-0.21393329]\n",
      " [-0.2103835 ]]\n",
      "   [0.0175756]\n"
     ]
    }
   ],
   "source": [
    "model.summary()\n",
    "\n",
    "print(\"\")\n",
    "print('-------------------- Weights and Biases --------------------')\n",
    "\n",
    "print(\"NB: The last parameter in each layer is bias while others are weights\")\n",
    "print(\"\")\n",
    "\n",
    "for layer in model.layers:\n",
    "    print(layer.name)\n",
    "    for item in layer.get_weights():\n",
    "        print(\"  \", item)"
   ]
  },
  {
   "cell_type": "markdown",
   "metadata": {},
   "source": [
    "## Testing model accuracy"
   ]
  },
  {
   "cell_type": "code",
   "execution_count": 90,
   "metadata": {},
   "outputs": [
    {
     "name": "stdout",
     "output_type": "stream",
     "text": [
      "Epochs: 12\n"
     ]
    }
   ],
   "source": [
    "print(\"Epochs:\", len(history.history['loss']))\n"
   ]
  },
  {
   "cell_type": "code",
   "execution_count": 91,
   "metadata": {},
   "outputs": [
    {
     "name": "stdout",
     "output_type": "stream",
     "text": [
      "293/529 [===============>..............] - ETA: 1s"
     ]
    },
    {
     "name": "stdout",
     "output_type": "stream",
     "text": [
      "529/529 [==============================] - 2s 4ms/step\n",
      "The accuracy on test dataset is: 0.8514120288313837\n",
      "Unique predicted classes: [0 1]\n"
     ]
    }
   ],
   "source": [
    "# Make predictions on the test data\n",
    "y_pred = model.predict(X_test)\n",
    "y_pred_binary_class = (y_pred > 0.5).astype(int) # since this is a binary problem we convert predicted probabilitie to binary\n",
    "accuracy = accuracy_score(y_test, y_pred_binary_class) # Calculate accuracy\n",
    "print(f'The accuracy on test dataset is: {accuracy}')\n",
    "\n",
    "# get the predicted classes\n",
    "y_pred_classes_flat = tf.reshape(y_pred_binary_class, [-1])\n",
    "print(\"Unique predicted classes:\", tf.unique(y_pred_classes_flat).y.numpy())\n",
    "\n"
   ]
  },
  {
   "cell_type": "code",
   "execution_count": 92,
   "metadata": {},
   "outputs": [
    {
     "data": {
      "image/png": "[encoded data removed]",
      "text/plain": [
       "<Figure size 640x480 with 1 Axes>"
      ]
     },
     "metadata": {},
     "output_type": "display_data"
    }
   ],
   "source": [
    "import matplotlib.pyplot as plt\n",
    "\n",
    "plt.plot(history.history['loss'], label='Training Loss')\n",
    "plt.plot(history.history['val_loss'], label='Validation Loss')\n",
    "plt.legend()\n",
    "plt.show()"
   ]
  }
 ],
 "metadata": {
  "kernelspec": {
   "display_name": "dts_nn",
   "language": "python",
   "name": "python3"
  },
  "language_info": {
   "codemirror_mode": {
    "name": "ipython",
    "version": 3
   },
   "file_extension": ".py",
   "mimetype": "text/x-python",
   "name": "python",
   "nbconvert_exporter": "python",
   "pygments_lexer": "ipython3",
   "version": "3.11.0"
  }
 },
 "nbformat": 4,
 "nbformat_minor": 2
}
